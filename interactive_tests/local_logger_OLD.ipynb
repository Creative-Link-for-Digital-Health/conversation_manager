{
 "cells": [
  {
   "cell_type": "markdown",
   "id": "1cc344a6",
   "metadata": {},
   "source": [
    "## Play with local logger \n",
    "#### will generate DuckDB chat log in this directory"
   ]
  },
  {
   "cell_type": "code",
   "execution_count": 17,
   "id": "71c6c829",
   "metadata": {},
   "outputs": [],
   "source": [
    "import sys\n",
    "sys.path.append('../loggers')\n",
    "from local_logger_OLD import ChatLogger"
   ]
  },
  {
   "cell_type": "code",
   "execution_count": 10,
   "id": "520ba90b",
   "metadata": {},
   "outputs": [],
   "source": [
    "logger = ChatLogger()"
   ]
  },
  {
   "cell_type": "code",
   "execution_count": 11,
   "id": "2e5531e1",
   "metadata": {},
   "outputs": [],
   "source": [
    "logger.log_message(\"sess_1\", \"conv_1\", \"Hello!\", \"user\")"
   ]
  },
  {
   "cell_type": "code",
   "execution_count": 12,
   "id": "de352565",
   "metadata": {},
   "outputs": [],
   "source": [
    "logger.log_conversation_turn(\n",
    "    session_id=\"session_001\",\n",
    "    conversation_id=\"conv_001\", \n",
    "    user_message=\"Hello, how are you?\",\n",
    "    assistant_message=\"I'm doing well, thank you! How can I help you today?\"\n",
    ")"
   ]
  },
  {
   "cell_type": "code",
   "execution_count": 13,
   "id": "5eec2c8f",
   "metadata": {},
   "outputs": [
    {
     "name": "stdout",
     "output_type": "stream",
     "text": [
      "Conversation: [{'session_id': 'session_001', 'conversation_id': 'conv_001', 'message': 'Hello, how are you?', 'role': 'user', 'created_at': Timestamp('2025-05-26 09:18:31.080000')}, {'session_id': 'session_001', 'conversation_id': 'conv_001', 'message': \"I'm doing well, thank you! How can I help you today?\", 'role': 'assistant', 'created_at': Timestamp('2025-05-26 09:18:31.084000')}, {'session_id': 'session_001', 'conversation_id': 'conv_001', 'message': 'Hello, how are you?', 'role': 'user', 'created_at': Timestamp('2025-05-26 09:22:07.574000')}, {'session_id': 'session_001', 'conversation_id': 'conv_001', 'message': \"I'm doing well, thank you! How can I help you today?\", 'role': 'assistant', 'created_at': Timestamp('2025-05-26 09:22:07.577000')}]\n"
     ]
    }
   ],
   "source": [
    "    # Get conversation\n",
    "    conv = logger.get_conversation(\"conv_001\")\n",
    "    print(\"Conversation:\", conv)"
   ]
  },
  {
   "cell_type": "code",
   "execution_count": 14,
   "id": "21707bc3",
   "metadata": {},
   "outputs": [
    {
     "name": "stdout",
     "output_type": "stream",
     "text": [
      "Stats: {'total_messages': 6, 'unique_sessions': 2, 'unique_conversations': 2, 'earliest_message': datetime.datetime(2025, 5, 26, 9, 18, 4, 401000), 'latest_message': datetime.datetime(2025, 5, 26, 9, 22, 7, 577000)}\n"
     ]
    }
   ],
   "source": [
    "    # Get stats\n",
    "    stats = logger.get_stats()\n",
    "    print(\"Stats:\", stats)"
   ]
  },
  {
   "cell_type": "code",
   "execution_count": 15,
   "id": "5b3ab9d9",
   "metadata": {},
   "outputs": [
    {
     "name": "stdout",
     "output_type": "stream",
     "text": [
      "Exported to recent_chats.csv\n"
     ]
    }
   ],
   "source": [
    "    # Export with filtering\n",
    "    logger.export_to_csv(\"recent_chats.csv\", \"created_at > '2025-01-01'\")"
   ]
  },
  {
   "cell_type": "code",
   "execution_count": 16,
   "id": "3c202b50",
   "metadata": {},
   "outputs": [],
   "source": [
    "logger.close()"
   ]
  }
 ],
 "metadata": {
  "kernelspec": {
   "display_name": "conversation-manager",
   "language": "python",
   "name": "python3"
  },
  "language_info": {
   "codemirror_mode": {
    "name": "ipython",
    "version": 3
   },
   "file_extension": ".py",
   "mimetype": "text/x-python",
   "name": "python",
   "nbconvert_exporter": "python",
   "pygments_lexer": "ipython3",
   "version": "3.11.12"
  }
 },
 "nbformat": 4,
 "nbformat_minor": 5
}
