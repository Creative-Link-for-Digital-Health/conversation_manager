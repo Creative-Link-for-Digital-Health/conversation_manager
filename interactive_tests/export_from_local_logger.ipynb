{
 "cells": [
  {
   "cell_type": "code",
   "execution_count": null,
   "id": "88b527c3",
   "metadata": {},
   "outputs": [],
   "source": [
    "# Run this once at the top of your notebook\n",
    "%load_ext autoreload\n",
    "%autoreload 2"
   ]
  },
  {
   "cell_type": "code",
   "execution_count": null,
   "id": "7d3bc57e",
   "metadata": {},
   "outputs": [],
   "source": [
    "import sys\n",
    "import os\n",
    "\n",
    "sys.path.append('../loggers')\n",
    "from local_logger import LocalLogger\n",
    "\n",
    "import pandas as pd\n",
    "import matplotlib.pyplot as plt\n",
    "import seaborn as sns\n",
    "from datetime import datetime, timedelta"
   ]
  },
  {
   "cell_type": "code",
   "execution_count": null,
   "id": "2fe649d9",
   "metadata": {},
   "outputs": [],
   "source": [
    "# Connect to your existing database\n",
    "logger = LocalLogger(\"../loggers/chat_logs.db\") "
   ]
  },
  {
   "cell_type": "code",
   "execution_count": null,
   "id": "0b5b3f96",
   "metadata": {},
   "outputs": [],
   "source": [
    "with logger._get_connection() as conn:\n",
    "    df = conn.execute(\"\"\"\n",
    "        SELECT session_id, conversation_id, message, role, created_at\n",
    "        FROM chat_messages \n",
    "        ORDER BY created_at\n",
    "    \"\"\").fetchdf()\n",
    "\n",
    "print(f\"Shape: {df.shape}\")\n",
    "print(f\"Columns: {df.columns.tolist()}\")\n",
    "df.head()"
   ]
  },
  {
   "cell_type": "code",
   "execution_count": null,
   "id": "173c4bb4",
   "metadata": {},
   "outputs": [],
   "source": [
    "logger.export_to_csv(\"recent_chats.csv\", \"created_at > '2025-01-01'\")"
   ]
  }
 ],
 "metadata": {
  "kernelspec": {
   "display_name": "conversation-manager",
   "language": "python",
   "name": "python3"
  },
  "language_info": {
   "codemirror_mode": {
    "name": "ipython",
    "version": 3
   },
   "file_extension": ".py",
   "mimetype": "text/x-python",
   "name": "python",
   "nbconvert_exporter": "python",
   "pygments_lexer": "ipython3",
   "version": "3.11.12"
  }
 },
 "nbformat": 4,
 "nbformat_minor": 5
}
