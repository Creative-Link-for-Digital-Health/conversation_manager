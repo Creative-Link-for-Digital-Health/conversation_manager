{
 "cells": [
  {
   "cell_type": "code",
   "execution_count": 1,
   "id": "88b527c3",
   "metadata": {},
   "outputs": [],
   "source": [
    "# Run this once at the top of your notebook\n",
    "%load_ext autoreload\n",
    "%autoreload 2"
   ]
  },
  {
   "cell_type": "code",
   "execution_count": 2,
   "id": "7d3bc57e",
   "metadata": {},
   "outputs": [],
   "source": [
    "import sys\n",
    "import os\n",
    "\n",
    "sys.path.append('../loggers')\n",
    "from local_logger import LocalLogger\n",
    "\n",
    "import pandas as pd\n",
    "import matplotlib.pyplot as plt\n",
    "import seaborn as sns\n",
    "from datetime import datetime, timedelta"
   ]
  },
  {
   "cell_type": "code",
   "execution_count": 3,
   "id": "2fe649d9",
   "metadata": {},
   "outputs": [],
   "source": [
    "# Connect to your existing database\n",
    "logger = LocalLogger(\"../loggers/chat_logs.db\") "
   ]
  },
  {
   "cell_type": "code",
   "execution_count": 4,
   "id": "0b5b3f96",
   "metadata": {},
   "outputs": [
    {
     "name": "stdout",
     "output_type": "stream",
     "text": [
      "Shape: (20, 5)\n",
      "Columns: ['session_id', 'conversation_id', 'message', 'role', 'created_at']\n"
     ]
    },
    {
     "data": {
      "text/html": [
       "<div>\n",
       "<style scoped>\n",
       "    .dataframe tbody tr th:only-of-type {\n",
       "        vertical-align: middle;\n",
       "    }\n",
       "\n",
       "    .dataframe tbody tr th {\n",
       "        vertical-align: top;\n",
       "    }\n",
       "\n",
       "    .dataframe thead th {\n",
       "        text-align: right;\n",
       "    }\n",
       "</style>\n",
       "<table border=\"1\" class=\"dataframe\">\n",
       "  <thead>\n",
       "    <tr style=\"text-align: right;\">\n",
       "      <th></th>\n",
       "      <th>session_id</th>\n",
       "      <th>conversation_id</th>\n",
       "      <th>message</th>\n",
       "      <th>role</th>\n",
       "      <th>created_at</th>\n",
       "    </tr>\n",
       "  </thead>\n",
       "  <tbody>\n",
       "    <tr>\n",
       "      <th>0</th>\n",
       "      <td>151737ab-a51c-435e-9ba6-b3bdb253f8dc</td>\n",
       "      <td>680c1bcf-efe0-4afa-a5f6-248892c42027</td>\n",
       "      <td>why is sky blue?</td>\n",
       "      <td>user</td>\n",
       "      <td>2025-05-26 09:49:32.390</td>\n",
       "    </tr>\n",
       "    <tr>\n",
       "      <th>1</th>\n",
       "      <td>151737ab-a51c-435e-9ba6-b3bdb253f8dc</td>\n",
       "      <td>680c1bcf-efe0-4afa-a5f6-248892c42027</td>\n",
       "      <td>The sky appears blue because of a phenomenon c...</td>\n",
       "      <td>agent</td>\n",
       "      <td>2025-05-26 09:49:35.120</td>\n",
       "    </tr>\n",
       "    <tr>\n",
       "      <th>2</th>\n",
       "      <td>151737ab-a51c-435e-9ba6-b3bdb253f8dc</td>\n",
       "      <td>680c1bcf-efe0-4afa-a5f6-248892c42027</td>\n",
       "      <td>Hrmm that's sus</td>\n",
       "      <td>user</td>\n",
       "      <td>2025-05-26 09:49:43.912</td>\n",
       "    </tr>\n",
       "    <tr>\n",
       "      <th>3</th>\n",
       "      <td>151737ab-a51c-435e-9ba6-b3bdb253f8dc</td>\n",
       "      <td>680c1bcf-efe0-4afa-a5f6-248892c42027</td>\n",
       "      <td>Don't worry, it's a well-established scientifi...</td>\n",
       "      <td>agent</td>\n",
       "      <td>2025-05-26 09:49:45.535</td>\n",
       "    </tr>\n",
       "    <tr>\n",
       "      <th>4</th>\n",
       "      <td>151737ab-a51c-435e-9ba6-b3bdb253f8dc</td>\n",
       "      <td>680c1bcf-efe0-4afa-a5f6-248892c42027</td>\n",
       "      <td>Wow in 19th century!</td>\n",
       "      <td>user</td>\n",
       "      <td>2025-05-26 10:19:57.562</td>\n",
       "    </tr>\n",
       "  </tbody>\n",
       "</table>\n",
       "</div>"
      ],
      "text/plain": [
       "                             session_id                       conversation_id  \\\n",
       "0  151737ab-a51c-435e-9ba6-b3bdb253f8dc  680c1bcf-efe0-4afa-a5f6-248892c42027   \n",
       "1  151737ab-a51c-435e-9ba6-b3bdb253f8dc  680c1bcf-efe0-4afa-a5f6-248892c42027   \n",
       "2  151737ab-a51c-435e-9ba6-b3bdb253f8dc  680c1bcf-efe0-4afa-a5f6-248892c42027   \n",
       "3  151737ab-a51c-435e-9ba6-b3bdb253f8dc  680c1bcf-efe0-4afa-a5f6-248892c42027   \n",
       "4  151737ab-a51c-435e-9ba6-b3bdb253f8dc  680c1bcf-efe0-4afa-a5f6-248892c42027   \n",
       "\n",
       "                                             message   role  \\\n",
       "0                                   why is sky blue?   user   \n",
       "1  The sky appears blue because of a phenomenon c...  agent   \n",
       "2                                    Hrmm that's sus   user   \n",
       "3  Don't worry, it's a well-established scientifi...  agent   \n",
       "4                               Wow in 19th century!   user   \n",
       "\n",
       "               created_at  \n",
       "0 2025-05-26 09:49:32.390  \n",
       "1 2025-05-26 09:49:35.120  \n",
       "2 2025-05-26 09:49:43.912  \n",
       "3 2025-05-26 09:49:45.535  \n",
       "4 2025-05-26 10:19:57.562  "
      ]
     },
     "execution_count": 4,
     "metadata": {},
     "output_type": "execute_result"
    }
   ],
   "source": [
    "with logger._get_connection() as conn:\n",
    "    df = conn.execute(\"\"\"\n",
    "        SELECT session_id, conversation_id, message, role, created_at\n",
    "        FROM chat_messages \n",
    "        ORDER BY created_at\n",
    "    \"\"\").fetchdf()\n",
    "\n",
    "print(f\"Shape: {df.shape}\")\n",
    "print(f\"Columns: {df.columns.tolist()}\")\n",
    "df.head()"
   ]
  },
  {
   "cell_type": "code",
   "execution_count": 5,
   "id": "173c4bb4",
   "metadata": {},
   "outputs": [
    {
     "name": "stdout",
     "output_type": "stream",
     "text": [
      "Exported to recent_chats.csv\n"
     ]
    }
   ],
   "source": [
    "logger.export_to_csv(\"recent_chats.csv\", \"created_at > '2025-01-01'\")"
   ]
  }
 ],
 "metadata": {
  "kernelspec": {
   "display_name": "conversation-manager",
   "language": "python",
   "name": "python3"
  },
  "language_info": {
   "codemirror_mode": {
    "name": "ipython",
    "version": 3
   },
   "file_extension": ".py",
   "mimetype": "text/x-python",
   "name": "python",
   "nbconvert_exporter": "python",
   "pygments_lexer": "ipython3",
   "version": "3.11.12"
  }
 },
 "nbformat": 4,
 "nbformat_minor": 5
}
