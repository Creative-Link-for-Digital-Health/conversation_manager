{
 "cells": [
  {
   "cell_type": "code",
   "execution_count": null,
   "id": "d1cc02ca",
   "metadata": {},
   "outputs": [],
   "source": [
    "import sys\n",
    "sys.path.append('../loggers')  \n",
    "\n",
    "from redcap_logger import RedCAPLogger\n",
    "import uuid\n",
    "from datetime import datetime"
   ]
  },
  {
   "cell_type": "code",
   "execution_count": null,
   "id": "aac8defc",
   "metadata": {},
   "outputs": [],
   "source": [
    "try:\n",
    "    # Test loading the configuration file\n",
    "    logger = RedCAPLogger(\"../.secrets.toml\") \n",
    "    print(\"✅ Configuration loaded successfully!\")\n",
    "    print(\"✅ REDCap connection established!\")\n",
    "    \n",
    "except FileNotFoundError:\n",
    "    print(\"❌ .secrets.toml file not found\")\n",
    "    print(\"Please create .secrets.toml with your REDCap credentials\")\n",
    "    print(\"Expected format:\")\n",
    "    print(\"[REDCAP]\")\n",
    "    print('API_TOKEN = \"your-token-here\"')\n",
    "    print('API_URL = \"https://redcap.institution.edu/api/\"')\n",
    "except Exception as e:\n",
    "    print(f\"❌ Error: {e}\")\n",
    "    print(f\"Error type: {type(e).__name__}\")"
   ]
  },
  {
   "cell_type": "code",
   "execution_count": null,
   "id": "b87e6ccc",
   "metadata": {},
   "outputs": [],
   "source": [
    "test_session_id = \"mock_session_id_10\"\n",
    "test_conversation_id = f\"test_conv_{uuid.uuid4().hex[:8]}\"\n",
    "\n",
    "print(f\"🧪 Testing single message logging...\")\n",
    "print(f\"Session ID: {test_session_id}\")\n",
    "print(f\"Conversation ID: {test_conversation_id}\")\n",
    "\n",
    "try:\n",
    "    success = logger.log_message(\n",
    "        session_id=test_session_id,\n",
    "        conversation_id=test_conversation_id,\n",
    "        message=\"Hello, this is a test message from the notebook!\",\n",
    "        role=\"user\"\n",
    "    )\n",
    "    \n",
    "    if success:\n",
    "        print(\"✅ Message logged successfully!\")\n",
    "    else:\n",
    "        print(\"❌ Message logging failed (returned False)\")\n",
    "    \n",
    "except Exception as e:\n",
    "    print(f\"❌ Exception occurred: {e}\")\n",
    "    print(f\"Error type: {type(e).__name__}\")"
   ]
  }
 ],
 "metadata": {
  "kernelspec": {
   "display_name": "conversation-manager",
   "language": "python",
   "name": "python3"
  },
  "language_info": {
   "codemirror_mode": {
    "name": "ipython",
    "version": 3
   },
   "file_extension": ".py",
   "mimetype": "text/x-python",
   "name": "python",
   "nbconvert_exporter": "python",
   "pygments_lexer": "ipython3",
   "version": "3.11.12"
  }
 },
 "nbformat": 4,
 "nbformat_minor": 5
}
