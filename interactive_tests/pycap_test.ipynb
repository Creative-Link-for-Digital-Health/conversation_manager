{
 "cells": [
  {
   "cell_type": "code",
   "execution_count": 3,
   "id": "1bae56a2",
   "metadata": {},
   "outputs": [],
   "source": [
    "import sys\n",
    "import toml\n",
    "\n",
    "from redcap import Project"
   ]
  },
  {
   "cell_type": "code",
   "execution_count": 16,
   "id": "12b639f1",
   "metadata": {},
   "outputs": [],
   "source": [
    "with open('../.secrets.toml', 'r') as f:\n",
    "    secrets = toml.load(f)"
   ]
  },
  {
   "cell_type": "code",
   "execution_count": 18,
   "id": "4b2483f1",
   "metadata": {},
   "outputs": [],
   "source": [
    "project = Project(secrets['REDCAP']['API_URL'], secrets['REDCAP']['API_TOKEN'])"
   ]
  },
  {
   "cell_type": "code",
   "execution_count": 19,
   "id": "4926fd6f",
   "metadata": {},
   "outputs": [],
   "source": [
    "message = [{\"record_id\":\"uniq-234\", \"session_id\":\"very\"}]"
   ]
  },
  {
   "cell_type": "code",
   "execution_count": 20,
   "id": "1416d7d4",
   "metadata": {},
   "outputs": [
    {
     "data": {
      "text/plain": [
       "{'count': 1}"
      ]
     },
     "execution_count": 20,
     "metadata": {},
     "output_type": "execute_result"
    }
   ],
   "source": [
    "project.import_records(message)"
   ]
  }
 ],
 "metadata": {
  "kernelspec": {
   "display_name": "conversation-manager",
   "language": "python",
   "name": "python3"
  },
  "language_info": {
   "codemirror_mode": {
    "name": "ipython",
    "version": 3
   },
   "file_extension": ".py",
   "mimetype": "text/x-python",
   "name": "python",
   "nbconvert_exporter": "python",
   "pygments_lexer": "ipython3",
   "version": "3.11.12"
  }
 },
 "nbformat": 4,
 "nbformat_minor": 5
}
